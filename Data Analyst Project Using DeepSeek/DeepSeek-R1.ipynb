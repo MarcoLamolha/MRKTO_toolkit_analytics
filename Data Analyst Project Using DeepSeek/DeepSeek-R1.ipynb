{
 "cells": [
  {
   "cell_type": "markdown",
   "metadata": {},
   "source": [
    "**Project Structure Explanation:**\n",
    "\n",
    "1. **Data Loading**: \n",
    "   - Imports sample sales data from a URL\n",
    "   - Can be replaced with local file using `pd.read_csv('your_file.csv')`\n",
    "\n",
    "2. **Data Cleaning**:\n",
    "   - Handles missing values\n",
    "   - Removes duplicates\n",
    "   - Converts data types\n",
    "   - Handles datetime conversion\n",
    "\n",
    "3. **Exploratory Analysis**:\n",
    "   - Statistical summaries\n",
    "   - Grouped aggregations\n",
    "   - Time series analysis\n",
    "   - Correlation analysis\n",
    "\n",
    "4. **Visualization**:\n",
    "   - Bar charts for categorical data\n",
    "   - Histograms for distributions\n",
    "   - Line charts for trends\n",
    "   - Heatmaps for correlations\n",
    "\n",
    "5. **Advanced Analysis**:\n",
    "   - Customer segmentation\n",
    "   - RFM (Recency, Frequency, Monetary) analysis\n",
    "   - Profitability analysis\n",
    "\n",
    "**To Use This Project:**\n",
    "\n",
    "1. Install requirements:\n",
    "```bash\n",
    "pip install pandas numpy matplotlib seaborn\n",
    "```\n",
    "\n",
    "2. Save the code as `sales_analysis.py` and run it\n",
    "\n",
    "3. Modify the dataset URL/path to use your own data\n",
    "\n",
    "**Key Features:**\n",
    "- Comprehensive data cleaning pipeline\n",
    "- Multiple visualization types\n",
    "- Time series analysis\n",
    "- Customer segmentation\n",
    "- Automated reporting of key insights\n",
    "- Data saving capability\n",
    "\n",
    "**Expand This Project By:**\n",
    "1. Adding machine learning (sales forecasting)\n",
    "2. Creating interactive dashboards with Plotly\n",
    "3. Implementing customer lifetime value calculation\n",
    "4. Adding geographical analysis\n",
    "5. Incorporating inventory turnover analysis"
   ]
  },
  {
   "cell_type": "code",
   "execution_count": 4,
   "metadata": {},
   "outputs": [],
   "source": [
    "\"\"\"Sales Data Analysis Project\"\"\"\n",
    "\n",
    "# %% Import Libraries\n",
    "import pandas as pd\n",
    "import numpy as np\n",
    "import matplotlib.pyplot as plt\n",
    "import seaborn as sns\n",
    "import warnings\n",
    "warnings.filterwarnings('ignore')\n"
   ]
  },
  {
   "cell_type": "code",
   "execution_count": 5,
   "metadata": {},
   "outputs": [],
   "source": [
    "# %% Load Data\n",
    "# Dataset source: Sample sales data (you can replace with your own dataset)\n",
    "url = \"https://raw.githubusercontent.com/plotly/datasets/master/sales_success.csv\"\n",
    "df = pd.read_csv(url)"
   ]
  },
  {
   "cell_type": "code",
   "execution_count": null,
   "metadata": {},
   "outputs": [],
   "source": [
    "# %% Data Cleaning\n",
    "# Check initial info\n",
    "print(\"Initial Data Overview:\")\n",
    "print(df.info())\n",
    "print(\"\\nFirst 5 rows:\")\n",
    "print(df.head())"
   ]
  },
  {
   "cell_type": "code",
   "execution_count": null,
   "metadata": {},
   "outputs": [],
   "source": [
    "# Handle missing values\n",
    "print(\"\\nMissing values before cleaning:\")\n",
    "print(df.isnull().sum())"
   ]
  },
  {
   "cell_type": "code",
   "execution_count": null,
   "metadata": {},
   "outputs": [],
   "source": [
    "\n",
    "# Fill missing numeric values with median\n",
    "numeric_cols = df.select_dtypes(include=np.number).columns\n",
    "df[numeric_cols] = df[numeric_cols].fillna(df[numeric_cols].median())\n"
   ]
  },
  {
   "cell_type": "code",
   "execution_count": null,
   "metadata": {},
   "outputs": [],
   "source": [
    "# Drop remaining missing values if any\n",
    "df = df.dropna()\n"
   ]
  },
  {
   "cell_type": "code",
   "execution_count": null,
   "metadata": {},
   "outputs": [],
   "source": [
    "\n",
    "# Remove duplicates\n",
    "df = df.drop_duplicates()"
   ]
  },
  {
   "cell_type": "code",
   "execution_count": null,
   "metadata": {},
   "outputs": [],
   "source": [
    "# Convert date column to datetime\n",
    "df['Date'] = pd.to_datetime(df['Date'])\n",
    "\n",
    "\n",
    "print(\"\\nData after cleaning:\")\n",
    "print(df.info())\n"
   ]
  },
  {
   "cell_type": "code",
   "execution_count": null,
   "metadata": {},
   "outputs": [],
   "source": [
    "# %% Exploratory Data Analysis\n",
    "# Basic statistics\n",
    "print(\"\\nDescriptive Statistics:\")\n",
    "print(df.describe())"
   ]
  },
  {
   "cell_type": "code",
   "execution_count": null,
   "metadata": {},
   "outputs": [],
   "source": [
    "# Sales by product category\n",
    "product_sales = df.groupby('Product')['Revenue'].sum().sort_values(ascending=False)\n",
    "print(\"\\nTop Selling Products:\")\n",
    "print(product_sales.head())"
   ]
  },
  {
   "cell_type": "code",
   "execution_count": null,
   "metadata": {},
   "outputs": [],
   "source": [
    "# Sales trends over time\n",
    "df['YearMonth'] = df['Date'].dt.to_period('M')\n",
    "monthly_sales = df.groupby('YearMonth')['Revenue'].sum().reset_index()\n"
   ]
  },
  {
   "cell_type": "code",
   "execution_count": null,
   "metadata": {},
   "outputs": [],
   "source": [
    "\n",
    "# %% Data Visualization\n",
    "plt.figure(figsize=(15, 10))\n"
   ]
  },
  {
   "cell_type": "code",
   "execution_count": null,
   "metadata": {},
   "outputs": [],
   "source": [
    "# Plot 1: Top Selling Products\n",
    "plt.subplot(2, 2, 1)\n",
    "sns.barplot(x=product_sales.head().values, y=product_sales.head().index)\n",
    "plt.title('Top 5 Selling Products')\n",
    "plt.xlabel('Total Revenue')"
   ]
  },
  {
   "cell_type": "code",
   "execution_count": null,
   "metadata": {},
   "outputs": [],
   "source": [
    "# Plot 2: Sales Distribution\n",
    "plt.subplot(2, 2, 2)\n",
    "sns.histplot(df['Revenue'], bins=20, kde=True)\n",
    "plt.title('Revenue Distribution')\n"
   ]
  },
  {
   "cell_type": "code",
   "execution_count": null,
   "metadata": {},
   "outputs": [],
   "source": [
    "# Plot 3: Monthly Sales Trend\n",
    "plt.subplot(2, 2, 3)\n",
    "sns.lineplot(x=monthly_sales['YearMonth'].astype(str), y=monthly_sales['Revenue'])\n",
    "plt.title('Monthly Sales Trend')\n",
    "plt.xticks(rotation=45)\n"
   ]
  },
  {
   "cell_type": "code",
   "execution_count": null,
   "metadata": {},
   "outputs": [],
   "source": [
    "# Plot 4: Correlation Heatmap\n",
    "plt.subplot(2, 2, 4)\n",
    "correlation_matrix = df.select_dtypes(include=np.number).corr()\n",
    "sns.heatmap(correlation_matrix, annot=True, cmap='coolwarm')\n",
    "plt.title('Correlation Matrix')\n"
   ]
  },
  {
   "cell_type": "code",
   "execution_count": null,
   "metadata": {},
   "outputs": [],
   "source": [
    "plt.tight_layout()\n",
    "plt.show()"
   ]
  },
  {
   "cell_type": "code",
   "execution_count": null,
   "metadata": {},
   "outputs": [],
   "source": [
    "# %% Advanced Analysis\n",
    "# Customer segmentation by purchase behavior\n",
    "customer_stats = df.groupby('CustomerID').agg({\n",
    "    'Revenue': ['sum', 'count', 'mean'],\n",
    "    'Profit': 'sum'\n",
    "}).reset_index()\n",
    "customer_stats.columns = ['CustomerID', 'TotalSpend', 'PurchaseCount', 'AvgOrderValue', 'TotalProfit']\n"
   ]
  },
  {
   "cell_type": "code",
   "execution_count": null,
   "metadata": {},
   "outputs": [],
   "source": [
    "# Top customers by revenue\n",
    "top_customers = customer_stats.sort_values('TotalSpend', ascending=False).head(10)\n"
   ]
  },
  {
   "cell_type": "code",
   "execution_count": null,
   "metadata": {},
   "outputs": [],
   "source": [
    "# %% Insights and Conclusions\n",
    "print(\"\\nKey Insights:\")\n",
    "print(f\"1. Highest selling product category: {product_sales.index[0]} (${product_sales.values[0]:,.2f})\")\n",
    "print(f\"2. Average order value: ${df['Revenue'].mean():.2f}\")\n",
    "print(f\"3. Most profitable customer ID: {top_customers.iloc[0]['CustomerID']} (${top_customers.iloc[0]['TotalSpend']:,.2f})\")\n",
    "print(\"4. Strong positive correlation observed between Quantity and Revenue\")\n",
    "print(\"5. Sales show seasonal pattern with Q4 peaks\")\n"
   ]
  },
  {
   "cell_type": "code",
   "execution_count": null,
   "metadata": {},
   "outputs": [],
   "source": [
    "# Save cleaned data\n",
    "df.to_csv('cleaned_sales_data.csv', index=False)"
   ]
  }
 ],
 "metadata": {
  "kernelspec": {
   "display_name": "Python 3",
   "language": "python",
   "name": "python3"
  },
  "language_info": {
   "codemirror_mode": {
    "name": "ipython",
    "version": 3
   },
   "file_extension": ".py",
   "mimetype": "text/x-python",
   "name": "python",
   "nbconvert_exporter": "python",
   "pygments_lexer": "ipython3",
   "version": "3.12.6"
  }
 },
 "nbformat": 4,
 "nbformat_minor": 2
}
